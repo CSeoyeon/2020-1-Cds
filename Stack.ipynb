{
  "nbformat": 4,
  "nbformat_minor": 0,
  "metadata": {
    "colab": {
      "name": "Stack.ipynb",
      "provenance": [],
      "collapsed_sections": [],
      "include_colab_link": true
    },
    "kernelspec": {
      "name": "python3",
      "display_name": "Python 3"
    }
  },
  "cells": [
    {
      "cell_type": "markdown",
      "metadata": {
        "id": "view-in-github",
        "colab_type": "text"
      },
      "source": [
        "<a href=\"https://colab.research.google.com/github/CSeoyeon/2020-1-cds/blob/master/Stack.ipynb\" target=\"_parent\"><img src=\"https://colab.research.google.com/assets/colab-badge.svg\" alt=\"Open In Colab\"/></a>"
      ]
    },
    {
      "cell_type": "code",
      "metadata": {
        "id": "OfFbPl5G0Aee",
        "colab_type": "code",
        "outputId": "d9f260d5-3c5f-481e-9b00-d73d844e39b7",
        "colab": {
          "base_uri": "https://localhost:8080/",
          "height": 193
        }
      },
      "source": [
        "class Node:\n",
        "  def __init__(self, fruit): \n",
        "    self.fruit =fruit\n",
        "    self.next = None\n",
        "    \n",
        "  def get_fruit(self):\n",
        "    return self.fruit\n",
        "\n",
        "  def get_next(self):\n",
        "    return self.next\n",
        "\n",
        "  def set_next(self, next):\n",
        "    self.next = next\n",
        "\n",
        "class Stack:\n",
        "\n",
        "  def __init__(self):\n",
        "    self.top=None\n",
        "    self.size=0\n",
        "      \n",
        "  def push(self, fruit):\n",
        "    new_node = Node(fruit)\n",
        "    self.size +=1\n",
        "    if self.top is None:\n",
        "      self.top = new_node\n",
        "    else:\n",
        "      new_node.set_next(self.top)\n",
        "      self.top = new_node\n",
        "\n",
        "  def print_stack(self):\n",
        "    print(\">>current stack\")\n",
        "    node = self.top\n",
        "    while node is not None:\n",
        "      print(node.get_fruit())\n",
        "      node = node.get_next()\n",
        "    print(\">>>>>>>>>>>>>\")\n",
        "\n",
        "  def pop(self):\n",
        "    node = self.top\n",
        "    if node is not None:\n",
        "      self.top =node.get_next()\n",
        "      self.size -=1\n",
        "    return node\n",
        "\n",
        "    \n",
        " \n",
        "\n",
        "\n",
        "stack = Stack()\n",
        "stack.push(\"Apple\")\n",
        "stack.push(\"Kiwi\")\n",
        "stack.push(\"Banana\")\n",
        "stack.print_stack()\n",
        "\n",
        "while True:\n",
        "  node = stack.pop()\n",
        "  if node is None:\n",
        "    break\n",
        "  else:\n",
        "    print(\"Pop:\" + node.get_fruit())\n",
        "stack.print_stack()"
      ],
      "execution_count": 2,
      "outputs": [
        {
          "output_type": "stream",
          "text": [
            ">>current stack\n",
            "Banana\n",
            "Kiwi\n",
            "Apple\n",
            ">>>>>>>>>>>>>\n",
            "Pop:Banana\n",
            "Pop:Kiwi\n",
            "Pop:Apple\n",
            ">>current stack\n",
            ">>>>>>>>>>>>>\n"
          ],
          "name": "stdout"
        }
      ]
    }
  ]
}