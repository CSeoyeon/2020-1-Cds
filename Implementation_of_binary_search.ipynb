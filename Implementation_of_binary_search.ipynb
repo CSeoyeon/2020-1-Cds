{
  "nbformat": 4,
  "nbformat_minor": 0,
  "metadata": {
    "colab": {
      "name": "Implementation of binary search.ipynb",
      "provenance": [],
      "include_colab_link": true
    },
    "kernelspec": {
      "name": "python3",
      "display_name": "Python 3"
    }
  },
  "cells": [
    {
      "cell_type": "markdown",
      "metadata": {
        "id": "view-in-github",
        "colab_type": "text"
      },
      "source": [
        "<a href=\"https://colab.research.google.com/github/CSeoyeon/2020-1-cds/blob/master/Implementation_of_binary_search.ipynb\" target=\"_parent\"><img src=\"https://colab.research.google.com/assets/colab-badge.svg\" alt=\"Open In Colab\"/></a>"
      ]
    },
    {
      "cell_type": "code",
      "metadata": {
        "id": "D8qqjmRT5usH",
        "colab_type": "code",
        "outputId": "d78d53a0-6cf2-4e9a-edff-c7f4ae02afa6",
        "colab": {
          "base_uri": "https://localhost:8080/",
          "height": 34
        }
      },
      "source": [
        "def find(L, target, start, end):\n",
        "  if start > end:\n",
        "    return -1 \n",
        "\n",
        "  mid = (start + end ) //2\n",
        "  if L[mid] == target:\n",
        "    return mid \n",
        "\n",
        "  if L[mid] > target:\n",
        "    return find(L, target, start, mid -1 )\n",
        "  else:\n",
        "    return find(L,target, mid +1, end)\n",
        "\n",
        "L = []\n",
        "L.append(5)\n",
        "L.append(8)\n",
        "L.append(10)\n",
        "L.append(15)\n",
        "L.append(20)\n",
        "L.append(25)\n",
        "L.append(30)\n",
        "L.append(40)\n",
        "L.append(50)\n",
        "L.append(54)\n",
        "L.append(66)\n",
        "L.append(69)\n",
        "L.append(83)\n",
        "L.append(86)\n",
        "L.append(90)\n",
        "\n",
        "index = find(L, 66, 0, len(L)-1)\n",
        "print(index)\n"
      ],
      "execution_count": 2,
      "outputs": [
        {
          "output_type": "stream",
          "text": [
            "10\n"
          ],
          "name": "stdout"
        }
      ]
    }
  ]
}