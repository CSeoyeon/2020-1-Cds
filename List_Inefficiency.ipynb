{
  "nbformat": 4,
  "nbformat_minor": 0,
  "metadata": {
    "colab": {
      "name": "List_Inefficiency.ipynb",
      "provenance": [],
      "collapsed_sections": [],
      "include_colab_link": true
    },
    "kernelspec": {
      "name": "python3",
      "display_name": "Python 3"
    }
  },
  "cells": [
    {
      "cell_type": "markdown",
      "metadata": {
        "id": "view-in-github",
        "colab_type": "text"
      },
      "source": [
        "<a href=\"https://colab.research.google.com/github/CSeoyeon/2020-1-cds/blob/master/List_Inefficiency.ipynb\" target=\"_parent\"><img src=\"https://colab.research.google.com/assets/colab-badge.svg\" alt=\"Open In Colab\"/></a>"
      ]
    },
    {
      "cell_type": "code",
      "metadata": {
        "id": "MpzW7TR8zpLY",
        "colab_type": "code",
        "outputId": "4530c121-80ec-44b7-989b-131d2b21984c",
        "colab": {
          "base_uri": "https://localhost:8080/",
          "height": 1000
        }
      },
      "source": [
        "list = []\n",
        "\n",
        "for i in range(0, 20):\n",
        "  list.append(i)\n",
        "  print (\"List:\", list)\n",
        "  print(\"Length:\", len(list))\n",
        "  print(\"Size:\" , list.__sizeof__())\n",
        "  print('--------')"
      ],
      "execution_count": 0,
      "outputs": [
        {
          "output_type": "stream",
          "text": [
            "List: [0]\n",
            "Length: 1\n",
            "Size: 72\n",
            "--------\n",
            "List: [0, 1]\n",
            "Length: 2\n",
            "Size: 72\n",
            "--------\n",
            "List: [0, 1, 2]\n",
            "Length: 3\n",
            "Size: 72\n",
            "--------\n",
            "List: [0, 1, 2, 3]\n",
            "Length: 4\n",
            "Size: 72\n",
            "--------\n",
            "List: [0, 1, 2, 3, 4]\n",
            "Length: 5\n",
            "Size: 104\n",
            "--------\n",
            "List: [0, 1, 2, 3, 4, 5]\n",
            "Length: 6\n",
            "Size: 104\n",
            "--------\n",
            "List: [0, 1, 2, 3, 4, 5, 6]\n",
            "Length: 7\n",
            "Size: 104\n",
            "--------\n",
            "List: [0, 1, 2, 3, 4, 5, 6, 7]\n",
            "Length: 8\n",
            "Size: 104\n",
            "--------\n",
            "List: [0, 1, 2, 3, 4, 5, 6, 7, 8]\n",
            "Length: 9\n",
            "Size: 168\n",
            "--------\n",
            "List: [0, 1, 2, 3, 4, 5, 6, 7, 8, 9]\n",
            "Length: 10\n",
            "Size: 168\n",
            "--------\n",
            "List: [0, 1, 2, 3, 4, 5, 6, 7, 8, 9, 10]\n",
            "Length: 11\n",
            "Size: 168\n",
            "--------\n",
            "List: [0, 1, 2, 3, 4, 5, 6, 7, 8, 9, 10, 11]\n",
            "Length: 12\n",
            "Size: 168\n",
            "--------\n",
            "List: [0, 1, 2, 3, 4, 5, 6, 7, 8, 9, 10, 11, 12]\n",
            "Length: 13\n",
            "Size: 168\n",
            "--------\n",
            "List: [0, 1, 2, 3, 4, 5, 6, 7, 8, 9, 10, 11, 12, 13]\n",
            "Length: 14\n",
            "Size: 168\n",
            "--------\n",
            "List: [0, 1, 2, 3, 4, 5, 6, 7, 8, 9, 10, 11, 12, 13, 14]\n",
            "Length: 15\n",
            "Size: 168\n",
            "--------\n",
            "List: [0, 1, 2, 3, 4, 5, 6, 7, 8, 9, 10, 11, 12, 13, 14, 15]\n",
            "Length: 16\n",
            "Size: 168\n",
            "--------\n",
            "List: [0, 1, 2, 3, 4, 5, 6, 7, 8, 9, 10, 11, 12, 13, 14, 15, 16]\n",
            "Length: 17\n",
            "Size: 240\n",
            "--------\n",
            "List: [0, 1, 2, 3, 4, 5, 6, 7, 8, 9, 10, 11, 12, 13, 14, 15, 16, 17]\n",
            "Length: 18\n",
            "Size: 240\n",
            "--------\n",
            "List: [0, 1, 2, 3, 4, 5, 6, 7, 8, 9, 10, 11, 12, 13, 14, 15, 16, 17, 18]\n",
            "Length: 19\n",
            "Size: 240\n",
            "--------\n",
            "List: [0, 1, 2, 3, 4, 5, 6, 7, 8, 9, 10, 11, 12, 13, 14, 15, 16, 17, 18, 19]\n",
            "Length: 20\n",
            "Size: 240\n",
            "--------\n"
          ],
          "name": "stdout"
        }
      ]
    }
  ]
}